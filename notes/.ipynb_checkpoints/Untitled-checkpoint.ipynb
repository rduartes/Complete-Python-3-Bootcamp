{
 "cells": [
  {
   "cell_type": "markdown",
   "id": "8ccacce8-d1db-4ae5-8e06-ba03f6d5d8f6",
   "metadata": {},
   "source": [
    "# Python String Slicing"
   ]
  },
  {
   "cell_type": "code",
   "execution_count": 4,
   "id": "60515785-5949-41fa-b38a-b224ae8a1b81",
   "metadata": {},
   "outputs": [],
   "source": [
    "the_string = \"This is the test string\""
   ]
  },
  {
   "cell_type": "markdown",
   "id": "f40cdfa6-789a-451d-9493-b8a80685e178",
   "metadata": {},
   "source": [
    "## From begginging or end\n",
    "Get chars from the beggining up to the 4th character"
   ]
  },
  {
   "cell_type": "code",
   "execution_count": 6,
   "id": "1df650d2-64fa-4023-94dc-232b59f63214",
   "metadata": {},
   "outputs": [
    {
     "data": {
      "text/plain": [
       "'This'"
      ]
     },
     "execution_count": 6,
     "metadata": {},
     "output_type": "execute_result"
    }
   ],
   "source": [
    "the_string[:4]"
   ]
  },
  {
   "cell_type": "markdown",
   "id": "99c2a328-96e3-406c-9b0c-f0c0780808c3",
   "metadata": {},
   "source": [
    "Get chars starting at the 4th character up to the end"
   ]
  },
  {
   "cell_type": "code",
   "execution_count": 8,
   "id": "431ab4f1-a3e2-4176-ba5b-fba335986346",
   "metadata": {},
   "outputs": [
    {
     "data": {
      "text/plain": [
       "' is the test string'"
      ]
     },
     "execution_count": 8,
     "metadata": {},
     "output_type": "execute_result"
    }
   ],
   "source": [
    "the_string[4:]"
   ]
  },
  {
   "cell_type": "markdown",
   "id": "6754b4a9-0c71-4f74-bc4b-b515f7adf11d",
   "metadata": {},
   "source": [
    "Get chars between 2 positions"
   ]
  },
  {
   "cell_type": "code",
   "execution_count": 10,
   "id": "60f434af-f0b8-4d7a-af18-0378eaa5e944",
   "metadata": {},
   "outputs": [
    {
     "data": {
      "text/plain": [
       "'is'"
      ]
     },
     "execution_count": 10,
     "metadata": {},
     "output_type": "execute_result"
    }
   ],
   "source": [
    "the_string[5:7]"
   ]
  },
  {
   "cell_type": "markdown",
   "id": "01e79f30-9e38-470b-b05a-9021bde7b703",
   "metadata": {},
   "source": [
    "We can define a **step size** for the substring."
   ]
  },
  {
   "cell_type": "markdown",
   "id": "d2a68877-4eff-4105-8b8e-8d3c6d5c81e2",
   "metadata": {},
   "source": [
    "This gets the whole string"
   ]
  },
  {
   "cell_type": "code",
   "execution_count": 11,
   "id": "489458cc-0658-4df4-b8a9-5104e2d5c9bc",
   "metadata": {},
   "outputs": [
    {
     "data": {
      "text/plain": [
       "'This is the test string'"
      ]
     },
     "execution_count": 11,
     "metadata": {},
     "output_type": "execute_result"
    }
   ],
   "source": [
    "the_string[::]"
   ]
  },
  {
   "cell_type": "markdown",
   "id": "2ecc1b9f-39c2-45c3-9a5e-c5cf014a17da",
   "metadata": {},
   "source": [
    "This defines the interval (step) at which to select characters"
   ]
  },
  {
   "cell_type": "code",
   "execution_count": 15,
   "id": "fae99ff8-96d6-4916-98f7-0ec74d96187e",
   "metadata": {},
   "outputs": [
    {
     "data": {
      "text/plain": [
       "'Ti stets tig'"
      ]
     },
     "execution_count": 15,
     "metadata": {},
     "output_type": "execute_result"
    }
   ],
   "source": [
    "the_string[::2]"
   ]
  },
  {
   "cell_type": "markdown",
   "id": "2db0bee2-5635-4374-a94e-f13798d00bc3",
   "metadata": {},
   "source": [
    "And we can also define a negative step size"
   ]
  },
  {
   "cell_type": "code",
   "execution_count": 16,
   "id": "1df6d667-a121-4c87-81b7-c6311038d084",
   "metadata": {},
   "outputs": [
    {
     "data": {
      "text/plain": [
       "'gnirts tset eht si sihT'"
      ]
     },
     "execution_count": 16,
     "metadata": {},
     "output_type": "execute_result"
    }
   ],
   "source": [
    "the_string[::-1]"
   ]
  }
 ],
 "metadata": {
  "kernelspec": {
   "display_name": "Python 3 (ipykernel)",
   "language": "python",
   "name": "python3"
  },
  "language_info": {
   "codemirror_mode": {
    "name": "ipython",
    "version": 3
   },
   "file_extension": ".py",
   "mimetype": "text/x-python",
   "name": "python",
   "nbconvert_exporter": "python",
   "pygments_lexer": "ipython3",
   "version": "3.11.7"
  }
 },
 "nbformat": 4,
 "nbformat_minor": 5
}
